{
 "cells": [
  {
   "cell_type": "code",
   "execution_count": null,
   "metadata": {},
   "outputs": [
    {
     "data": {
      "text/plain": [
       "PeftModelForCausalLM(\n",
       "  (base_model): LoraModel(\n",
       "    (model): GPT2LMHeadModel(\n",
       "      (transformer): GPT2Model(\n",
       "        (wte): Embedding(50257, 768)\n",
       "        (wpe): Embedding(1024, 768)\n",
       "        (drop): Dropout(p=0.1, inplace=False)\n",
       "        (h): ModuleList(\n",
       "          (0-11): 12 x GPT2Block(\n",
       "            (ln_1): LayerNorm((768,), eps=1e-05, elementwise_affine=True)\n",
       "            (attn): GPT2Attention(\n",
       "              (c_attn): lora.Linear(\n",
       "                (base_layer): Conv1D(nf=2304, nx=768)\n",
       "                (lora_dropout): ModuleDict(\n",
       "                  (default): Dropout(p=0.1, inplace=False)\n",
       "                )\n",
       "                (lora_A): ModuleDict(\n",
       "                  (default): Linear(in_features=768, out_features=8, bias=False)\n",
       "                )\n",
       "                (lora_B): ModuleDict(\n",
       "                  (default): Linear(in_features=8, out_features=2304, bias=False)\n",
       "                )\n",
       "                (lora_embedding_A): ParameterDict()\n",
       "                (lora_embedding_B): ParameterDict()\n",
       "                (lora_magnitude_vector): ModuleDict()\n",
       "              )\n",
       "              (c_proj): Conv1D(nf=768, nx=768)\n",
       "              (attn_dropout): Dropout(p=0.1, inplace=False)\n",
       "              (resid_dropout): Dropout(p=0.1, inplace=False)\n",
       "            )\n",
       "            (ln_2): LayerNorm((768,), eps=1e-05, elementwise_affine=True)\n",
       "            (mlp): GPT2MLP(\n",
       "              (c_fc): Conv1D(nf=3072, nx=768)\n",
       "              (c_proj): Conv1D(nf=768, nx=3072)\n",
       "              (act): NewGELUActivation()\n",
       "              (dropout): Dropout(p=0.1, inplace=False)\n",
       "            )\n",
       "          )\n",
       "        )\n",
       "        (ln_f): LayerNorm((768,), eps=1e-05, elementwise_affine=True)\n",
       "      )\n",
       "      (lm_head): Linear(in_features=768, out_features=50257, bias=False)\n",
       "    )\n",
       "  )\n",
       ")"
      ]
     },
     "execution_count": 2,
     "metadata": {},
     "output_type": "execute_result"
    }
   ],
   "source": [
    "from transformers import AutoModelForCausalLM, AutoTokenizer\n",
    "from peft import PeftModel, PeftConfig\n",
    "import torch\n",
    "\n",
    "# 1. Charger la config LoRA\n",
    "adapter_path = \"chemin/vers/l_adapter\"  # Remplacez par le chemin vers votre adaptateur LoRA\n",
    "# Assurez-vous que le chemin contient le fichier `adapter_config.json`\n",
    "config = PeftConfig.from_pretrained(adapter_path)\n",
    "\n",
    "# 2. Charger le modèle de base GPT-2\n",
    "base_model = AutoModelForCausalLM.from_pretrained(config.base_model_name_or_path)\n",
    "tokenizer = AutoTokenizer.from_pretrained(adapter_path)\n",
    "\n",
    "# 3. Charger l’adaptateur LoRA\n",
    "model = PeftModel.from_pretrained(base_model, adapter_path)\n",
    "model.eval()\n"
   ]
  },
  {
   "cell_type": "code",
   "execution_count": 25,
   "metadata": {},
   "outputs": [
    {
     "name": "stderr",
     "output_type": "stream",
     "text": [
      "Setting `pad_token_id` to `eos_token_id`:50256 for open-end generation.\n",
      "Setting `pad_token_id` to `eos_token_id`:50256 for open-end generation.\n"
     ]
    },
    {
     "name": "stdout",
     "output_type": "stream",
     "text": [
      "### Instruction:n\\ Tell me 3 things to do in London ? \n",
      "\n",
      "### Response:\n",
      "1. Go to a cafe or bar to buy a coffee. \n",
      "2. Take an Uber or Lyft. \n",
      "3. Visit the cinema or cinema chain. \n",
      "4. Eat lunch at a local restaurant or restaurant. \n",
      "5. Book a book or event. \n",
      "6. Go to a cinema or theatre. \n",
      "7. Spend time with family and friends.\n",
      "\n",
      "\n",
      "GPT2\n",
      " ### Instruction:n\\ Tell me 3 things to do in London ? \n",
      "\n",
      "### Response:\n",
      "1. Dress up in a full-on suit and tie\n",
      "2. Take a walk around London\n",
      "3. Make a trip to the Elephant and Castle to explore the city\n",
      "4. Take a bike to the Royal Mint for a drink and a snack\n",
      "5. Head out to the Thames for a fun afternoon in the sun\n",
      "6. Visit the Thames and watch the skyline through a telescope\n"
     ]
    }
   ],
   "source": [
    "# 4. Tester le modèle\n",
    "prompt = \"### Instruction:n\\ Tell me 3 things to do in London ? \\n\\n### Response:\\n\"\n",
    "# Tokeniser le prompt\n",
    "inputs = tokenizer(prompt, return_tensors=\"pt\")\n",
    "with torch.no_grad():\n",
    "    # Générer une réponse avec le modèle LoRA, on prend les 50 meilleurs mots de la distribution avec une température de 0.8\n",
    "    # et une probabilité cumulée(top_p) d'au moins 0.95\n",
    "    # et une longueur maximale de 100 tokens\n",
    "    outputs = model.generate(**inputs , do_sample=True, temperature=0.8, max_length=100, top_p=0.95, top_k=50, num_return_sequences=1)\n",
    "    outputs2= base_model.generate(**inputs , do_sample=True, temperature=0.8, max_length=100, top_p=0.95, top_k=50, num_return_sequences=1)\n",
    "# 5. Afficher le résultat du modèle LoRA\n",
    "print(tokenizer.decode(outputs[0], skip_special_tokens=True))\n",
    "# 6. Afficher le résultat du modèle de base\n",
    "print(\"\\n\\nGPT2\\n\", tokenizer.decode(outputs2[0], skip_special_tokens=True))"
   ]
  },
  {
   "cell_type": "code",
   "execution_count": null,
   "metadata": {},
   "outputs": [],
   "source": []
  }
 ],
 "metadata": {
  "kernelspec": {
   "display_name": "tf",
   "language": "python",
   "name": "python3"
  },
  "language_info": {
   "codemirror_mode": {
    "name": "ipython",
    "version": 3
   },
   "file_extension": ".py",
   "mimetype": "text/x-python",
   "name": "python",
   "nbconvert_exporter": "python",
   "pygments_lexer": "ipython3",
   "version": "3.10.13"
  }
 },
 "nbformat": 4,
 "nbformat_minor": 2
}
