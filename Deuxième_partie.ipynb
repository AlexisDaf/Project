!pip install datasets

dataset = load_dataset("tatsu-lab/alpaca")
train_dataset = dataset["train"]
