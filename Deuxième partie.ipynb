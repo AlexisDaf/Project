{
  "nbformat": 4,
  "nbformat_minor": 0,
  "metadata": {
    "colab": {
      "provenance": [],
      "authorship_tag": "ABX9TyNVThoxVhg6XT0ki1g8LPsR",
      "include_colab_link": true
    },
    "kernelspec": {
      "name": "python3",
      "display_name": "Python 3"
    },
    "language_info": {
      "name": "python"
    }
  },
  "cells": [
    {
      "cell_type": "markdown",
      "metadata": {
        "id": "view-in-github",
        "colab_type": "text"
      },
      "source": [
        "<a href=\"https://colab.research.google.com/github/AlexisDaf/Project/blob/main/Deuxi%C3%A8me%20partie.ipynb\" target=\"_parent\"><img src=\"https://colab.research.google.com/assets/colab-badge.svg\" alt=\"Open In Colab\"/></a>"
      ]
    },
    {
      "cell_type": "code",
      "execution_count": null,
      "metadata": {
        "id": "68XZ7vmpBaJu"
      },
      "outputs": [],
      "source": [
        "# ======================\n",
        "#  CHARGEMENT DU DATASET\n",
        "# ======================\n",
        "dataset = load_dataset(\"tatsu-lab/alpaca\")\n",
        "\n",
        "def format_instruction(example):\n",
        "    return {\n",
        "        \"text\": f\"### Instruction:\\n{example['instruction']}\\n\\n### Input:\\n{example['input']}\\n\\n### Response:\\n{example['output']}\"\n",
        "    }\n",
        "\n",
        "dataset = dataset.map(format_instruction)"
      ]
    }
  ]
}